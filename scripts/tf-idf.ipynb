{
 "cells": [
  {
   "cell_type": "code",
   "execution_count": 2,
   "metadata": {},
   "outputs": [],
   "source": [
    "import pandas as pd\n",
    "import numpy as np"
   ]
  },
  {
   "cell_type": "code",
   "execution_count": 3,
   "metadata": {},
   "outputs": [],
   "source": [
    "cons1 = pd.read_csv(r'/home/davo/projects/COMP598_Project/data/conservative1_coded.tsv' , sep='\\t')\n",
    "cons2 = pd.read_excel(r'/home/davo/projects/COMP598_Project/data/conservative2_coded.xlsx')\n",
    "cons3 = pd.read_csv(r'/home/davo/projects/COMP598_Project/data/conservative3_coded.tsv' , sep='\\t')"
   ]
  },
  {
   "cell_type": "code",
   "execution_count": 4,
   "metadata": {},
   "outputs": [],
   "source": [
    "pols1 = pd.read_csv(r'/home/davo/projects/COMP598_Project/data/politics1_coded.tsv' , sep='\\t')\n",
    "pols2 = pd.read_excel(r'/home/davo/projects/COMP598_Project/data/politics2_coded.xlsx')\n",
    "pols3 = pd.read_csv(r'/home/davo/projects/COMP598_Project/data/politics3_coded.tsv' , sep='\\t')"
   ]
  },
  {
   "cell_type": "code",
   "execution_count": 5,
   "metadata": {},
   "outputs": [],
   "source": [
    "# print(f\"Cons1 value counts: \\n{cons1['coding'].value_counts(dropna=False)}\");\n",
    "# print(f\"Cons2 alue counts: \\n{cons2['coding'].value_counts(dropna=False)}\");\n",
    "# print(f\"Cons3 value counts: \\n{cons3['coding'].value_counts(dropna=False)}\");"
   ]
  },
  {
   "cell_type": "code",
   "execution_count": 6,
   "metadata": {},
   "outputs": [],
   "source": [
    "# print(f\"Pols1 value counts: \\n{pols1['coding'].value_counts(dropna=False)}\");\n",
    "# print(f\"Pols2 value counts: \\n{pols2['coding'].value_counts(dropna=False)}\");\n",
    "# print(f\"Pols3 value counts: \\n{pols3['coding'].value_counts(dropna=False)}\");"
   ]
  },
  {
   "cell_type": "code",
   "execution_count": 7,
   "metadata": {},
   "outputs": [],
   "source": [
    "cons_posts = pd.concat([cons1, cons2, cons3], ignore_index=True).drop_duplicates(subset=['Name']).reset_index(drop=True)\n",
    "pols_posts = pd.concat([pols1, pols2, pols3], ignore_index=True).drop_duplicates(subset=['Name']).reset_index(drop=True)\n"
   ]
  },
  {
   "cell_type": "code",
   "execution_count": 8,
   "metadata": {
    "code_folding": [],
    "scrolled": true
   },
   "outputs": [
    {
     "name": "stdout",
     "output_type": "stream",
     "text": [
      "Conservative posts value counts: \n",
      "l    130\n",
      "t    111\n",
      "f     60\n",
      "v     59\n",
      "N     50\n",
      "c     22\n",
      "r     20\n",
      "Name: coding, dtype: int64\n",
      "Politics posts value counts: \n",
      "t    280\n",
      "N    134\n",
      "l    118\n",
      "v    104\n",
      "f     75\n",
      "c     45\n",
      "r     30\n",
      "Name: coding, dtype: int64\n"
     ]
    }
   ],
   "source": [
    "#turn all codings that are not (f, v, l, t, r, c) into N\n",
    "def keep_6_categories(posts):\n",
    "    indices_of_other_letters = posts['coding'].apply(lambda letter: letter not in ['f', 'v', 'l', 't', 'r', 'c'])\n",
    "    posts.loc[indices_of_other_letters, 'coding'] = 'N'\n",
    "    return posts\n",
    "\n",
    "cons_posts = keep_6_categories(cons_posts).drop(columns=['Name'])\n",
    "pols_posts = keep_6_categories(pols_posts).drop(columns=['Name'])\n",
    "\n",
    "print(f\"Conservative posts value counts: \\n{cons_posts['coding'].value_counts(dropna=False)}\");\n",
    "print(f\"Politics posts value counts: \\n{pols_posts['coding'].value_counts(dropna=False)}\");"
   ]
  },
  {
   "cell_type": "code",
   "execution_count": 35,
   "metadata": {},
   "outputs": [
    {
     "data": {
      "text/html": [
       "<div>\n",
       "<style scoped>\n",
       "    .dataframe tbody tr th:only-of-type {\n",
       "        vertical-align: middle;\n",
       "    }\n",
       "\n",
       "    .dataframe tbody tr th {\n",
       "        vertical-align: top;\n",
       "    }\n",
       "\n",
       "    .dataframe thead th {\n",
       "        text-align: right;\n",
       "    }\n",
       "</style>\n",
       "<table border=\"1\" class=\"dataframe\">\n",
       "  <thead>\n",
       "    <tr style=\"text-align: right;\">\n",
       "      <th></th>\n",
       "      <th>conservative</th>\n",
       "      <th>politics</th>\n",
       "    </tr>\n",
       "  </thead>\n",
       "  <tbody>\n",
       "    <tr>\n",
       "      <th>Lawsuits</th>\n",
       "      <td>0.287611</td>\n",
       "      <td>0.150127</td>\n",
       "    </tr>\n",
       "    <tr>\n",
       "      <th>Transition</th>\n",
       "      <td>0.245575</td>\n",
       "      <td>0.356234</td>\n",
       "    </tr>\n",
       "    <tr>\n",
       "      <th>Foreign</th>\n",
       "      <td>0.132743</td>\n",
       "      <td>0.095420</td>\n",
       "    </tr>\n",
       "    <tr>\n",
       "      <th>Voting</th>\n",
       "      <td>0.130531</td>\n",
       "      <td>0.132316</td>\n",
       "    </tr>\n",
       "    <tr>\n",
       "      <th>N\\A</th>\n",
       "      <td>0.110619</td>\n",
       "      <td>0.170483</td>\n",
       "    </tr>\n",
       "    <tr>\n",
       "      <th>Covid</th>\n",
       "      <td>0.048673</td>\n",
       "      <td>0.057252</td>\n",
       "    </tr>\n",
       "    <tr>\n",
       "      <th>Racism/Minorities</th>\n",
       "      <td>0.044248</td>\n",
       "      <td>0.038168</td>\n",
       "    </tr>\n",
       "  </tbody>\n",
       "</table>\n",
       "</div>"
      ],
      "text/plain": [
       "                   conservative  politics\n",
       "Lawsuits               0.287611  0.150127\n",
       "Transition             0.245575  0.356234\n",
       "Foreign                0.132743  0.095420\n",
       "Voting                 0.130531  0.132316\n",
       "N\\A                    0.110619  0.170483\n",
       "Covid                  0.048673  0.057252\n",
       "Racism/Minorities      0.044248  0.038168"
      ]
     },
     "execution_count": 35,
     "metadata": {},
     "output_type": "execute_result"
    }
   ],
   "source": [
    "cons_engagement_percentages_per_category = cons_posts['coding'].value_counts(dropna=False) / sum(cons_posts['coding'].value_counts(dropna=False))\n",
    "pols_engagement_percentages_per_category = pols_posts['coding'].value_counts(dropna=False) / sum(pols_posts['coding'].value_counts(dropna=False))\n",
    "engagement_per_category = pd.concat([cons_engagement_percentages_per_category, pols_engagement_percentages_per_category], axis=1)\n",
    "engagement_per_category.columns = [\"conservative\", \"politics\"]\n",
    "engagement_per_category = engagement_per_category.rename(index = {'l':'Lawsuits', 't':'Transition', 'f': \"Foreign\", 'v': \"Voting\", 'c':'Covid', 'r': 'Racism/Minorities', 'N':'N\\A'})\n",
    "engagement_per_category"
   ]
  },
  {
   "cell_type": "code",
   "execution_count": 38,
   "metadata": {},
   "outputs": [
    {
     "data": {
      "text/plain": [
       "<matplotlib.axes._subplots.AxesSubplot at 0x7f59c76d1400>"
      ]
     },
     "execution_count": 38,
     "metadata": {},
     "output_type": "execute_result"
    },
    {
     "data": {
      "image/png": "[encoded data removed]",
      "text/plain": [
       "<Figure size 432x288 with 1 Axes>"
      ]
     },
     "metadata": {
      "needs_background": "light"
     },
     "output_type": "display_data"
    }
   ],
   "source": [
    "engagement_per_category.plot.bar(title='Percentage of posts per category for each subreddit')"
   ]
  },
  {
   "cell_type": "code",
   "execution_count": 39,
   "metadata": {
    "code_folding": []
   },
   "outputs": [],
   "source": [
    "def compute_tf_grouped_by_coding(posts):\n",
    "    #replace all non-letters by a space and make every word of every sentence into a seperate row\n",
    "    posts['title'] = posts['title'].str.replace('[^a-zA-Z]', ' ').str.split()\n",
    "    posts = posts.explode('title', ignore_index=True).rename(columns={'title': 'words'})\n",
    "    #for each coding, count the number of occurences of each word\n",
    "    tfs = posts.groupby(['coding', 'words']).size().to_frame('tf')\n",
    "    #sort the count column within each coding \n",
    "    tfs = tfs.sort_values(['coding', 'tf'], ascending=[True, False])\n",
    "    return tfs\n",
    "\n",
    "cons_tfs = compute_tf_grouped_by_coding(cons_posts)\n",
    "pols_tfs = compute_tf_grouped_by_coding(pols_posts)"
   ]
  },
  {
   "cell_type": "code",
   "execution_count": 40,
   "metadata": {},
   "outputs": [
    {
     "data": {
      "text/html": [
       "<div>\n",
       "<style scoped>\n",
       "    .dataframe tbody tr th:only-of-type {\n",
       "        vertical-align: middle;\n",
       "    }\n",
       "\n",
       "    .dataframe tbody tr th {\n",
       "        vertical-align: top;\n",
       "    }\n",
       "\n",
       "    .dataframe thead th {\n",
       "        text-align: right;\n",
       "    }\n",
       "</style>\n",
       "<table border=\"1\" class=\"dataframe\">\n",
       "  <thead>\n",
       "    <tr style=\"text-align: right;\">\n",
       "      <th></th>\n",
       "      <th></th>\n",
       "      <th>tf</th>\n",
       "    </tr>\n",
       "    <tr>\n",
       "      <th>coding</th>\n",
       "      <th>words</th>\n",
       "      <th></th>\n",
       "    </tr>\n",
       "  </thead>\n",
       "  <tbody>\n",
       "    <tr>\n",
       "      <th rowspan=\"10\" valign=\"top\">N</th>\n",
       "      <th>Biden</th>\n",
       "      <td>27</td>\n",
       "    </tr>\n",
       "    <tr>\n",
       "      <th>Trump</th>\n",
       "      <td>26</td>\n",
       "    </tr>\n",
       "    <tr>\n",
       "      <th>to</th>\n",
       "      <td>18</td>\n",
       "    </tr>\n",
       "    <tr>\n",
       "      <th>Joe</th>\n",
       "      <td>13</td>\n",
       "    </tr>\n",
       "    <tr>\n",
       "      <th>the</th>\n",
       "      <td>12</td>\n",
       "    </tr>\n",
       "    <tr>\n",
       "      <th>for</th>\n",
       "      <td>10</td>\n",
       "    </tr>\n",
       "    <tr>\n",
       "      <th>s</th>\n",
       "      <td>9</td>\n",
       "    </tr>\n",
       "    <tr>\n",
       "      <th>in</th>\n",
       "      <td>8</td>\n",
       "    </tr>\n",
       "    <tr>\n",
       "      <th>of</th>\n",
       "      <td>8</td>\n",
       "    </tr>\n",
       "    <tr>\n",
       "      <th>t</th>\n",
       "      <td>8</td>\n",
       "    </tr>\n",
       "  </tbody>\n",
       "</table>\n",
       "</div>"
      ],
      "text/plain": [
       "              tf\n",
       "coding words    \n",
       "N      Biden  27\n",
       "       Trump  26\n",
       "       to     18\n",
       "       Joe    13\n",
       "       the    12\n",
       "       for    10\n",
       "       s       9\n",
       "       in      8\n",
       "       of      8\n",
       "       t       8"
      ]
     },
     "execution_count": 40,
     "metadata": {},
     "output_type": "execute_result"
    }
   ],
   "source": [
    "idx = pd.IndexSlice\n",
    "pols_tfs.loc[idx['l', :, :]].iloc[:10, :]\n",
    "cons_tfs.loc[idx['N' :, :]].iloc[:10, :]"
   ]
  },
  {
   "cell_type": "code",
   "execution_count": 41,
   "metadata": {
    "code_folding": []
   },
   "outputs": [
    {
     "data": {
      "text/html": [
       "<div>\n",
       "<style scoped>\n",
       "    .dataframe tbody tr th:only-of-type {\n",
       "        vertical-align: middle;\n",
       "    }\n",
       "\n",
       "    .dataframe tbody tr th {\n",
       "        vertical-align: top;\n",
       "    }\n",
       "\n",
       "    .dataframe thead th {\n",
       "        text-align: right;\n",
       "    }\n",
       "</style>\n",
       "<table border=\"1\" class=\"dataframe\">\n",
       "  <thead>\n",
       "    <tr style=\"text-align: right;\">\n",
       "      <th></th>\n",
       "      <th>idf</th>\n",
       "    </tr>\n",
       "  </thead>\n",
       "  <tbody>\n",
       "    <tr>\n",
       "      <th>to</th>\n",
       "      <td>0.000000</td>\n",
       "    </tr>\n",
       "    <tr>\n",
       "      <th>at</th>\n",
       "      <td>0.000000</td>\n",
       "    </tr>\n",
       "    <tr>\n",
       "      <th>for</th>\n",
       "      <td>0.000000</td>\n",
       "    </tr>\n",
       "    <tr>\n",
       "      <th>a</th>\n",
       "      <td>0.000000</td>\n",
       "    </tr>\n",
       "    <tr>\n",
       "      <th>of</th>\n",
       "      <td>0.000000</td>\n",
       "    </tr>\n",
       "    <tr>\n",
       "      <th>...</th>\n",
       "      <td>...</td>\n",
       "    </tr>\n",
       "    <tr>\n",
       "      <th>Tweeting</th>\n",
       "      <td>2.639057</td>\n",
       "    </tr>\n",
       "    <tr>\n",
       "      <th>Create</th>\n",
       "      <td>2.639057</td>\n",
       "    </tr>\n",
       "    <tr>\n",
       "      <th>Crazy</th>\n",
       "      <td>2.639057</td>\n",
       "    </tr>\n",
       "    <tr>\n",
       "      <th>Cracks</th>\n",
       "      <td>2.639057</td>\n",
       "    </tr>\n",
       "    <tr>\n",
       "      <th>yu</th>\n",
       "      <td>2.639057</td>\n",
       "    </tr>\n",
       "  </tbody>\n",
       "</table>\n",
       "<p>4511 rows × 1 columns</p>\n",
       "</div>"
      ],
      "text/plain": [
       "               idf\n",
       "to        0.000000\n",
       "at        0.000000\n",
       "for       0.000000\n",
       "a         0.000000\n",
       "of        0.000000\n",
       "...            ...\n",
       "Tweeting  2.639057\n",
       "Create    2.639057\n",
       "Crazy     2.639057\n",
       "Cracks    2.639057\n",
       "yu        2.639057\n",
       "\n",
       "[4511 rows x 1 columns]"
      ]
     },
     "execution_count": 41,
     "metadata": {},
     "output_type": "execute_result"
    }
   ],
   "source": [
    "#number of documents each word appears in (we have 14 documents)\n",
    "a = cons_tfs.index.get_level_values(1).value_counts()\n",
    "b = pols_tfs.index.get_level_values(1).value_counts()\n",
    "#idf scores for each word \n",
    "idf = a.add(b, fill_value=0).to_frame().sort_values(['words'], ascending=False).rename(columns={'words': 'idf'})\n",
    "idf['idf'] = np.log(14 / idf['idf'] )\n",
    "idf.index.ncons_tfsames = ['words']\n",
    "idf"
   ]
  },
  {
   "cell_type": "code",
   "execution_count": 42,
   "metadata": {},
   "outputs": [],
   "source": [
    "#create dictionaries that will hold the tf-idfs for each category\n",
    "cons_tf_idfs = {}\n",
    "for category in ['N', 'l', 'f', 'c', 'v', 'r', 't']:\n",
    "    cons_tf_idfs[category] = cons_tfs.loc[idx[category], 'tf'].multiply(idf['idf'], fill_value=0, axis=0).sort_values(ascending=False)\n",
    "    \n",
    "pols_tf_idfs = {}\n",
    "for category in ['N', 'l', 'f', 'c', 'v', 'r', 't']:\n",
    "     pols_tf_idfs[category] = pols_tfs.loc[idx[category], 'tf'].multiply(idf['idf'], fill_value=0, axis=0).sort_values(ascending=False)"
   ]
  },
  {
   "cell_type": "code",
   "execution_count": 43,
   "metadata": {},
   "outputs": [],
   "source": [
    "# pols_tf_idfs and cons_tf_idfs are the tf-idf score dictionaries\n",
    "#to see the scores of a specific category, enter the letter below:"
   ]
  },
  {
   "cell_type": "code",
   "execution_count": 86,
   "metadata": {
    "scrolled": true
   },
   "outputs": [
    {
     "data": {
      "text/plain": [
       "['Thanksgiving',\n",
       " 'Eve',\n",
       " 'Lame',\n",
       " 'down',\n",
       " 'address',\n",
       " 'unity',\n",
       " 'd',\n",
       " 'Night',\n",
       " 'Melania',\n",
       " 'mine']"
      ]
     },
     "execution_count": 86,
     "metadata": {},
     "output_type": "execute_result"
    }
   ],
   "source": [
    "list(pols_tf_idfs['N'][:20].index)[:10]"
   ]
  },
  {
   "cell_type": "code",
   "execution_count": 85,
   "metadata": {
    "scrolled": true
   },
   "outputs": [
    {
     "data": {
      "text/plain": [
       "['China',\n",
       " 'Flynn',\n",
       " 'Michael',\n",
       " 'pardons',\n",
       " 'Chinese',\n",
       " 'Afghanistan',\n",
       " 'Iraq',\n",
       " 'security',\n",
       " 'Foreign',\n",
       " 'Staffer']"
      ]
     },
     "execution_count": 85,
     "metadata": {},
     "output_type": "execute_result"
    }
   ],
   "source": [
    "list(cons_tf_idfs['f'][:20].index)[:10]"
   ]
  },
  {
   "cell_type": "code",
   "execution_count": null,
   "metadata": {},
   "outputs": [],
   "source": []
  },
  {
   "cell_type": "code",
   "execution_count": null,
   "metadata": {},
   "outputs": [],
   "source": []
  }
 ],
 "metadata": {
  "kernelspec": {
   "display_name": "Python 3",
   "language": "python",
   "name": "python3"
  },
  "language_info": {
   "codemirror_mode": {
    "name": "ipython",
    "version": 3
   },
   "file_extension": ".py",
   "mimetype": "text/x-python",
   "name": "python",
   "nbconvert_exporter": "python",
   "pygments_lexer": "ipython3",
   "version": "3.8.3"
  }
 },
 "nbformat": 4,
 "nbformat_minor": 4
}
